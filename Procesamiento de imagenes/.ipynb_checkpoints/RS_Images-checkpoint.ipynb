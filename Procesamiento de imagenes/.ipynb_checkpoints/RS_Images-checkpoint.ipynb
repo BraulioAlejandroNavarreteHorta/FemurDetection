{
 "cells": [
  {
   "cell_type": "markdown",
   "id": "b55f8ea3",
   "metadata": {},
   "source": [
    "# Imports"
   ]
  },
  {
   "cell_type": "code",
   "execution_count": 26,
   "id": "01f8417e",
   "metadata": {},
   "outputs": [],
   "source": [
    "import numpy as np"
   ]
  },
  {
   "cell_type": "code",
   "execution_count": 44,
   "id": "6e97d2a4",
   "metadata": {},
   "outputs": [
    {
     "data": {
      "text/plain": [
       "-2.9999999999999987"
      ]
     },
     "execution_count": 44,
     "metadata": {},
     "output_type": "execute_result"
    }
   ],
   "source": [
    "lista = [1,2,3] # arraylist\n",
    "vector = np.array([2,3,4])\n",
    "matriz = np.array([[1,2,3],[4,5,6],[7,8,9]])\n",
    "\n",
    "#type(vector)\n",
    "#matriz\n",
    "\n",
    "A = np.array([[2,3],[3,4]]) # coeficientes mis variables\n",
    "b = np.array([-1,0]) # coeficientes de los resultados de cada ecuacion\n",
    "\n",
    "x1, _ = np.linalg.solve(A,b)\n",
    "_"
   ]
  },
  {
   "cell_type": "code",
   "execution_count": 47,
   "id": "d06f4528",
   "metadata": {},
   "outputs": [
    {
     "data": {
      "text/plain": [
       "str"
      ]
     },
     "execution_count": 47,
     "metadata": {},
     "output_type": "execute_result"
    }
   ],
   "source": [
    "def ejemplo(a,b):\n",
    "    return a,b\n",
    "\n",
    "r1, _  = ejemplo(\"hola\",5)\n",
    "type(r1)"
   ]
  }
 ],
 "metadata": {
  "kernelspec": {
   "display_name": "Python 3 (ipykernel)",
   "language": "python",
   "name": "python3"
  },
  "language_info": {
   "codemirror_mode": {
    "name": "ipython",
    "version": 3
   },
   "file_extension": ".py",
   "mimetype": "text/x-python",
   "name": "python",
   "nbconvert_exporter": "python",
   "pygments_lexer": "ipython3",
   "version": "3.11.4"
  }
 },
 "nbformat": 4,
 "nbformat_minor": 5
}
